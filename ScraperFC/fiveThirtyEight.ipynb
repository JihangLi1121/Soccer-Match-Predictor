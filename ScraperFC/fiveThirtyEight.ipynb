{
 "cells": [
  {
   "cell_type": "code",
   "execution_count": null,
   "metadata": {},
   "outputs": [],
   "source": [
    "import csv  # Importing the csv module for handling CSV files\n",
    "import pandas as pd  # Importing pandas for data manipulation\n",
    "\n",
    "# Read the SPI matches data from a CSV file into a DataFrame\n",
    "df = pd.read_csv(\"data/spi_matches.csv\")\n",
    "\n",
    "# Display the first few rows of the DataFrame\n",
    "df.head()\n"
   ]
  },
  {
   "cell_type": "code",
   "execution_count": null,
   "metadata": {},
   "outputs": [],
   "source": [
    "# Filter the DataFrame for German Bundesliga matches from the 2020 season onwards\n",
    "bundesliga_df = df[(df['league'] == 'German Bundesliga') & (df['season'] >= 2020)]\n",
    "\n",
    "# Drop unnecessary columns\n",
    "bundesliga_df = bundesliga_df.drop(columns=['league_id', 'spi1', 'spi2'])  # Can drop more if needed\n",
    "\n",
    "# Reset the index of the DataFrame\n",
    "bundesliga_df = bundesliga_df.reset_index(drop=True)\n",
    "\n",
    "# Display the resulting DataFrame\n",
    "bundesliga_df"
   ]
  }
 ],
 "metadata": {
  "kernelspec": {
   "display_name": "base",
   "language": "python",
   "name": "python3"
  },
  "language_info": {
   "codemirror_mode": {
    "name": "ipython",
    "version": 3
   },
   "file_extension": ".py",
   "mimetype": "text/x-python",
   "name": "python",
   "nbconvert_exporter": "python",
   "pygments_lexer": "ipython3",
   "version": "3.11.5"
  }
 },
 "nbformat": 4,
 "nbformat_minor": 2
}
