{
 "cells": [
  {
   "cell_type": "code",
   "execution_count": null,
   "metadata": {},
   "outputs": [],
   "source": [
    "import pandas as pd  # Importing pandas for data manipulation\n",
    "import numpy as np  # Importing numpy for numerical operations\n"
   ]
  },
  {
   "cell_type": "code",
   "execution_count": null,
   "metadata": {},
   "outputs": [],
   "source": [
    "# Read the original Bundesliga 2021 data from a CSV file into a DataFrame\n",
    "df = pd.read_csv('data/original_data/bundesliga_2021.csv')\n",
    "\n",
    "# Define the columns to keep in the filtered DataFrame\n",
    "columns_to_keep = ['Home Team', 'Away Team', 'Home Goals', 'Away Goals', 'Home Ast', 'Away Ast', 'Home xG', 'Away xG']\n",
    "\n",
    "# Drop the row at index 233 (assuming it is erroneous or unnecessary)\n",
    "df = df.drop(index=233)\n",
    "\n",
    "# Filter the DataFrame to keep only the specified columns\n",
    "filtered_df = df[columns_to_keep]\n",
    "\n",
    "# Ensure the 'Away Goals' column is of integer type\n",
    "filtered_df['Away Goals'] = filtered_df['Away Goals'].astype(np.int64)\n",
    "\n",
    "# Save the cleaned DataFrame to a new CSV file\n",
    "filtered_df.to_csv('data/cleaned_data/bundesliga_2021_cleaned.csv', index=False)"
   ]
  },
  {
   "cell_type": "code",
   "execution_count": null,
   "metadata": {},
   "outputs": [],
   "source": [
    "# Read the original Bundesliga 2022 data from a CSV file into a DataFrame\n",
    "df = pd.read_csv('data/original_data/bundesliga_2022.csv')\n",
    "\n",
    "# Filter the DataFrame to keep only the specified columns\n",
    "filtered_df = df[columns_to_keep]\n",
    "\n",
    "# Save the cleaned DataFrame to a new CSV file\n",
    "filtered_df.to_csv('data/cleaned_data/bundesliga_2022_cleaned.csv', index=False)\n",
    "\n",
    "# Display the first few rows of the cleaned DataFrame\n",
    "filtered_df.head()"
   ]
  },
  {
   "cell_type": "code",
   "execution_count": null,
   "metadata": {},
   "outputs": [],
   "source": [
    "# Read the original Bundesliga 2023 data from a CSV file into a DataFrame\n",
    "df = pd.read_csv('data/original_data/bundesliga_2023.csv')\n",
    "\n",
    "# Define the columns to keep in the filtered DataFrame\n",
    "columns_to_keep = ['Home Team', 'Away Team', 'Home Goals', 'Away Goals', 'Home Ast', 'Away Ast', 'Home xG', 'Away xG']\n",
    "\n",
    "# Filter the DataFrame to keep only the specified columns\n",
    "filtered_df = df[columns_to_keep]\n",
    "\n",
    "# Save the cleaned DataFrame to a new CSV file\n",
    "filtered_df.to_csv('data/cleaned_data/bundesliga_2023_cleaned.csv', index=False)\n",
    "\n",
    "# Display the first few rows of the cleaned DataFrame\n",
    "filtered_df.head()"
   ]
  },
  {
   "cell_type": "code",
   "execution_count": null,
   "metadata": {},
   "outputs": [],
   "source": [
    "# Read the cleaned Bundesliga 2021-2023 data from a CSV file into a DataFrame\n",
    "bundesliga_2021 = pd.read_csv('/Users/jihangli/ucsc_cse_course/CSE115A/Soccer-Match-Predictor/data/cleaned_data/bundesliga_2021_cleaned.csv')\n",
    "bundesliga_2022 = pd.read_csv('/Users/jihangli/ucsc_cse_course/CSE115A/Soccer-Match-Predictor/data/cleaned_data/bundesliga_2022_cleaned.csv')\n",
    "bundesliga_2023 = pd.read_csv('/Users/jihangli/ucsc_cse_course/CSE115A/Soccer-Match-Predictor/data/cleaned_data/bundesliga_2023_cleaned.csv')\n",
    "\n",
    "# Combine the DataFrames for the three seasons into one DataFrame\n",
    "combined_bundesliga = pd.concat([bundesliga_2021, bundesliga_2022, bundesliga_2023], ignore_index=True)\n",
    "\n",
    "# Save the combined DataFrame to a new CSV file\n",
    "combined_bundesliga.to_csv('data/cleaned_data/bundesliga_cleaned.csv', index=False)"
   ]
  },
  {
   "cell_type": "code",
   "execution_count": null,
   "metadata": {},
   "outputs": [],
   "source": [
    "# FC Augsburg vs. SV Werder Bremen\n",
    "\n",
    "# Read the match simulation results for Augsburg from a CSV file\n",
    "match_one_Augsburg = pd.read_csv('/Users/jihangli/ucsc_cse_course/CSE115A/Soccer-Match-Predictor/Model_Jihang/result.csv')\n",
    "\n",
    "# Calculate the mean goals for home and away teams\n",
    "home_goal_mean = match_one_Augsburg['Home Goals Simulations'].mean()\n",
    "away_goal_mean = match_one_Augsburg['Away Goals Simulations'].mean()\n",
    "\n",
    "def  classify_result(row):\n",
    "    \"\"\"\n",
    "    Classify the result of a match simulation.\n",
    "\n",
    "    Args:\n",
    "        row (pd.Series): A row of the DataFrame containing 'Home Goals Simulations' and 'Away Goals Simulations'.\n",
    "\n",
    "    Returns:\n",
    "        str: The outcome of the match simulation ('Home Win', 'Away Win', or 'Tie').\n",
    "    \"\"\"\n",
    "\n",
    "    home_goals = row['Home Goals Simulations']\n",
    "    away_goals = row['Away Goals Simulations']\n",
    "    if home_goals - away_goals >= 0.5:\n",
    "        return 'Home Win'\n",
    "    elif away_goals - home_goals >= 0.5:\n",
    "        return 'Away Win'\n",
    "    else:\n",
    "        return 'Tie'\n",
    "\n",
    "# Apply the classification function to each row in the DataFrame\n",
    "match_one_Augsburg['Outcome'] = match_one_Augsburg.apply(classify_result, axis=1)\n",
    "\n",
    "# Calculate the total number of simulations and the number of each outcome\n",
    "total_simulations = len(match_one_Augsburg)\n",
    "home_wins = len(match_one_Augsburg[match_one_Augsburg['Outcome'] == 'Home Win'])\n",
    "away_wins = len(match_one_Augsburg[match_one_Augsburg['Outcome'] == 'Away Win'])\n",
    "ties = len(match_one_Augsburg[match_one_Augsburg['Outcome'] == 'Tie'])\n",
    "\n",
    "# Calculate the percentage of each outcome\n",
    "home_win_percentage = (home_wins / total_simulations) * 100\n",
    "away_win_percentage = (away_wins / total_simulations) * 100\n",
    "tie_percentage = (ties / total_simulations) * 100\n",
    "\n",
    "# Create a DataFrame to display the percentages\n",
    "percentages = pd.DataFrame({\n",
    "    'Home Team': 'FC Augsburg',\n",
    "    'Away Team': 'SV Werder Bremen',\n",
    "    'Home Win': [home_win_percentage],\n",
    "    'Away Win': [away_win_percentage],\n",
    "    'Tie': tie_percentage,\n",
    "    'Home xG': home_goal_mean,\n",
    "    'Away xG': away_goal_mean\n",
    "})\n",
    "# Display the percentages DataFrame\n",
    "percentages"
   ]
  }
 ],
 "metadata": {
  "kernelspec": {
   "display_name": "base",
   "language": "python",
   "name": "python3"
  },
  "language_info": {
   "codemirror_mode": {
    "name": "ipython",
    "version": 3
   },
   "file_extension": ".py",
   "mimetype": "text/x-python",
   "name": "python",
   "nbconvert_exporter": "python",
   "pygments_lexer": "ipython3",
   "version": "3.11.5"
  }
 },
 "nbformat": 4,
 "nbformat_minor": 2
}
