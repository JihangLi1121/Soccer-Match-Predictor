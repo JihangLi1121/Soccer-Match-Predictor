{
 "cells": [
  {
   "cell_type": "code",
   "execution_count": null,
   "metadata": {},
   "outputs": [],
   "source": [
    "import csv  # Importing the csv module for handling CSV files\n",
    "import pandas as pd  # Importing pandas for data manipulation\n",
    "import ScraperFC as sfc  # Importing the ScraperFC library for scraping data\n",
    "fb = sfc.FBref()  # Initializing the FBref object from ScraperFC\n"
   ]
  },
  {
   "cell_type": "code",
   "execution_count": null,
   "metadata": {},
   "outputs": [],
   "source": [
    "# Scrape match data for the 2022-2023 Bundesliga season\n",
    "match_df = fb.scrape_matches(\"2022-2023\", \"Bundesliga\")\n",
    "\n",
    "# Display the first few rows of the scraped match data\n",
    "match_df.head()\n",
    "\n",
    "# Save the scraped match data to a CSV file\n",
    "match_df.to_csv('bundesliga_2022.csv')"
   ]
  },
  {
   "cell_type": "code",
   "execution_count": null,
   "metadata": {},
   "outputs": [],
   "source": [
    "# Scrape match data for the 2021-2022 Bundesliga season\n",
    "match_df = fb.scrape_matches(\"2021-2022\", \"Bundesliga\")\n",
    "\n",
    "# Display the first few rows of the scraped match data\n",
    "match_df.head()\n",
    "\n",
    "# Save the scraped match data to a CSV file\n",
    "match_df.to_csv('bundesliga_2021.csv')"
   ]
  },
  {
   "cell_type": "code",
   "execution_count": null,
   "metadata": {},
   "outputs": [],
   "source": [
    "# Scrape match data for the 2023-2024 Bundesliga season\n",
    "match_df = fb.scrape_matches(\"2023-2024\", \"Bundesliga\")\n",
    "\n",
    "# Display the first few rows of the scraped match data\n",
    "match_df.head()\n",
    "\n",
    "# Save the scraped match data to a CSV file\n",
    "match_df.to_csv('bundesliga_2023.csv')"
   ]
  }
 ],
 "metadata": {
  "kernelspec": {
   "display_name": "base",
   "language": "python",
   "name": "python3"
  },
  "language_info": {
   "codemirror_mode": {
    "name": "ipython",
    "version": 3
   },
   "file_extension": ".py",
   "mimetype": "text/x-python",
   "name": "python",
   "nbconvert_exporter": "python",
   "pygments_lexer": "ipython3",
   "version": "3.11.5"
  }
 },
 "nbformat": 4,
 "nbformat_minor": 2
}
