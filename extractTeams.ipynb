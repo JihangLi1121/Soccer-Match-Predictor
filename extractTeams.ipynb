{
 "cells": [
  {
   "cell_type": "code",
   "execution_count": 12,
   "metadata": {},
   "outputs": [
    {
     "name": "stdout",
     "output_type": "stream",
     "text": [
      "['Arminia', 'Augsburg', 'Bayer Leverkusen', 'Bayern Munich', 'Bochum', 'Dortmund', 'Eintracht Frankfurt', 'Freiburg', 'Greuther Fürth', 'Hertha BSC', 'Hoffenheim', 'Köln', 'Mainz 05', 'Mönchengladbach', 'RB Leipzig', 'Stuttgart', 'Union Berlin', 'Wolfsburg']\n",
      "['Augsburg', 'Bayer Leverkusen', 'Bayern Munich', 'Bochum', 'Dortmund', 'Eintracht Frankfurt', 'Freiburg', 'Hertha BSC', 'Hoffenheim', 'Köln', 'Mainz 05', 'Mönchengladbach', 'RB Leipzig', 'Schalke 04', 'Stuttgart', 'Union Berlin', 'Werder Bremen', 'Wolfsburg']\n",
      "['Augsburg', 'Bayer Leverkusen', 'Bayern Munich', 'Bochum', 'Darmstadt 98', 'Dortmund', 'Eintracht Frankfurt', 'Freiburg', 'Heidenheim', 'Hoffenheim', 'Köln', 'Mainz 05', 'Mönchengladbach', 'RB Leipzig', 'Stuttgart', 'Union Berlin', 'Werder Bremen', 'Wolfsburg']\n",
      "['Arminia', 'Augsburg', 'Bayer Leverkusen', 'Bayern Munich', 'Bochum', 'Darmstadt 98', 'Dortmund', 'Eintracht Frankfurt', 'Freiburg', 'Greuther Fürth', 'Heidenheim', 'Hertha BSC', 'Hoffenheim', 'Köln', 'Mainz 05', 'Mönchengladbach', 'RB Leipzig', 'Schalke 04', 'Stuttgart', 'Union Berlin', 'Werder Bremen', 'Wolfsburg']\n",
      "['Arminia', 'Darmstadt 98', 'Greuther Fürth', 'Hertha BSC', 'Köln', 'Schalke 04']\n"
     ]
    }
   ],
   "source": [
    "import pandas as pd\n",
    "\n",
    "# teams in 2021\n",
    "df = pd.read_csv('data/cleaned_data/bundesliga_2021_cleaned.csv')\n",
    "\n",
    "home_teams = df['Home Team'].unique()\n",
    "away_teams = df['Away Team'].unique()\n",
    "\n",
    "all_teams = set(home_teams).union(set(away_teams))\n",
    "\n",
    "all_teams_list_2021 = sorted(list(all_teams))\n",
    "\n",
    "print(all_teams_list_2021)\n",
    "\n",
    "# teams in 2022\n",
    "df = pd.read_csv('data/cleaned_data/bundesliga_2022_cleaned.csv')\n",
    "\n",
    "home_teams = df['Home Team'].unique()\n",
    "away_teams = df['Away Team'].unique()\n",
    "\n",
    "all_teams = set(home_teams).union(set(away_teams))\n",
    "\n",
    "all_teams_list_2022 = sorted(list(all_teams))\n",
    "\n",
    "print(all_teams_list_2022)\n",
    "\n",
    "# teams in 2023\n",
    "df = pd.read_csv('data/cleaned_data/bundesliga_2023_cleaned.csv')\n",
    "\n",
    "home_teams = df['Home Team'].unique()\n",
    "away_teams = df['Away Team'].unique()\n",
    "\n",
    "all_teams = set(home_teams).union(set(away_teams))\n",
    "\n",
    "all_teams_list_2023 = sorted(list(all_teams))\n",
    "\n",
    "print(all_teams_list_2023)\n",
    "\n",
    "all_teams_list_2024 = ['Heidenheim', 'Union Berlin', 'Mainz 05', 'Bayer Leverkusen', 'Dortmund', \n",
    "                       'Mönchengladbach', 'Eintracht Frankfurt', 'Augsburg', 'Bayern Munich', \n",
    "                       'St. Pauli', 'Holstein Kiel', 'RB Leipzig', 'Freiburg', 'Werder Bremen', \n",
    "                       'Hoffenheim', 'Stuttgart', 'Bochum', 'Wolfsburg']\n",
    "\n",
    "all_teams_in_dataset = sorted(list(set(set(all_teams_list_2021).union(set(all_teams_list_2022))).union(all_teams_list_2023)))\n",
    "\n",
    "print(all_teams_in_dataset)\n",
    "\n",
    "teams_not_in_2024_list = sorted(list(set(all_teams_in_dataset).difference(set(all_teams_list_2024))))\n",
    "\n",
    "print(teams_not_in_2024_list)"
   ]
  }
 ],
 "metadata": {
  "kernelspec": {
   "display_name": "base",
   "language": "python",
   "name": "python3"
  },
  "language_info": {
   "codemirror_mode": {
    "name": "ipython",
    "version": 3
   },
   "file_extension": ".py",
   "mimetype": "text/x-python",
   "name": "python",
   "nbconvert_exporter": "python",
   "pygments_lexer": "ipython3",
   "version": "3.11.5"
  }
 },
 "nbformat": 4,
 "nbformat_minor": 2
}
