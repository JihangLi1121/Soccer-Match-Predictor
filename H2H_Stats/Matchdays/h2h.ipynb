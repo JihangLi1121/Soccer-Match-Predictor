{
 "cells": [
  {
   "cell_type": "code",
   "execution_count": null,
   "metadata": {},
   "outputs": [],
   "source": [
    "import pandas as pd\n",
    "import requests\n",
    "from bs4 import BeautifulSoup\n",
    "import os\n",
    "import csv"
   ]
  },
  {
   "cell_type": "code",
   "execution_count": null,
   "metadata": {},
   "outputs": [],
   "source": [
    "\n",
    "head_to_head_links = '/Users/joathcarrera/Desktop/CSE115A/Soccer-Match-Predictor/H2H_Stats/Urls/urls.csv'\n",
    "output_directory = '/Users/joathcarrera/Desktop/CSE115A/Soccer-Match-Predictor/H2H_Stats/Matchdays/'\n",
    "api_key = 'b3349e3c5ce9f2853b2b8cee2c0052a7'\n",
    "api_url = 'https://api.scraperapi.com/'\n"
   ]
  },
  {
   "cell_type": "code",
   "execution_count": null,
   "metadata": {},
   "outputs": [],
   "source": [
    "\n",
    "\n",
    "# Ensure the output directory exists\n",
    "os.makedirs(output_directory, exist_ok=True)\n",
    "\n",
    "with open(head_to_head_links, 'r') as f:\n",
    "    reader = csv.reader(f)\n",
    "    next(reader)  # Skip the header row\n",
    "    \n",
    "    matchday_count = 1\n",
    "    matchday_dir = os.path.join(output_directory, f'Matchday_{matchday_count}')\n",
    "    os.makedirs(matchday_dir, exist_ok=True)\n",
    "    \n",
    "    for idx, row in enumerate(reader):\n",
    "        url = row[0]\n",
    "        payload = {'api_key': api_key, 'url': url}\n",
    "        response = requests.get(api_url, params=payload)\n",
    "        \n",
    "        if response.status_code != 200:\n",
    "            print(f\"Failed to retrieve URL: {url}\")\n",
    "            continue\n",
    "        \n",
    "        soup = BeautifulSoup(response.text, 'html.parser')\n",
    "        scorebox = soup.find('div', class_='scorebox')\n",
    "\n",
    "        if scorebox:\n",
    "            teams_data = []\n",
    "            for div in scorebox.find_all('div', recursive=False):\n",
    "                team_data = [item.get_text(strip=True) for item in div.find_all('div')]\n",
    "                teams_data.append(team_data)\n",
    "\n",
    "            if teams_data:\n",
    "                # Determine the maximum number of columns\n",
    "                max_columns = max(len(team_data) for team_data in teams_data)\n",
    "\n",
    "                # Fill missing values with empty strings\n",
    "                for team_data in teams_data:\n",
    "                    while len(team_data) < max_columns:\n",
    "                        team_data.append('')\n",
    "\n",
    "                # Generate column names dynamically\n",
    "                columns = ['Team'] + [f'Column{i}' for i in range(1, max_columns)]\n",
    "\n",
    "                # Organize the data into a DataFrame\n",
    "                df = pd.DataFrame(teams_data, columns=columns)\n",
    "\n",
    "                # Extract a meaningful filename from the URL\n",
    "                filename = os.path.basename(url).replace('History', '').replace('.html', '') + '.csv'\n",
    "                filepath = os.path.join(matchday_dir, filename)\n",
    "\n",
    "                # Save the DataFrame to a CSV file\n",
    "                df.to_csv(filepath, index=False)\n",
    "\n",
    "                print(f\"CSV file saved to: {filepath}\")\n",
    "            else:\n",
    "                print(f\"No team data found for URL: {url}\")\n",
    "        else:\n",
    "            print(f\"No scorebox found for URL: {url}\")\n",
    "\n",
    "        # Update the matchday directory after every 9 files\n",
    "        if (idx + 1) % 9 == 0:\n",
    "            matchday_count += 1\n",
    "            matchday_dir = os.path.join(output_directory, f'Matchday_{matchday_count}')\n",
    "            os.makedirs(matchday_dir, exist_ok=True)"
   ]
  }
 ],
 "metadata": {
  "kernelspec": {
   "display_name": "Python 3",
   "language": "python",
   "name": "python3"
  },
  "language_info": {
   "codemirror_mode": {
    "name": "ipython",
    "version": 3
   },
   "file_extension": ".py",
   "mimetype": "text/x-python",
   "name": "python",
   "nbconvert_exporter": "python",
   "pygments_lexer": "ipython3",
   "version": "3.12.4"
  }
 },
 "nbformat": 4,
 "nbformat_minor": 2
}
