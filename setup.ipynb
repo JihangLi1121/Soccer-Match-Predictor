{
 "cells": [
  {
   "cell_type": "code",
   "execution_count": 15,
   "metadata": {},
   "outputs": [],
   "source": [
    "import pandas as pd\n",
    "import numpy as np"
   ]
  },
  {
   "cell_type": "code",
   "execution_count": 14,
   "metadata": {},
   "outputs": [
    {
     "name": "stderr",
     "output_type": "stream",
     "text": [
      "/var/folders/z_/sf04nyf97190tmz67kqwy10c0000gn/T/ipykernel_97667/1592331796.py:8: SettingWithCopyWarning: \n",
      "A value is trying to be set on a copy of a slice from a DataFrame.\n",
      "Try using .loc[row_indexer,col_indexer] = value instead\n",
      "\n",
      "See the caveats in the documentation: https://pandas.pydata.org/pandas-docs/stable/user_guide/indexing.html#returning-a-view-versus-a-copy\n",
      "  filtered_df['Away Goals'] = filtered_df['Away Goals'].astype(np.int64)\n"
     ]
    }
   ],
   "source": [
    "df = pd.read_csv('data/original_data/bundesliga_2021.csv')\n",
    "columns_to_keep = ['Home Team', 'Away Team', 'Home Goals', 'Away Goals', 'Home Ast', 'Away Ast', 'Home xG', 'Away xG']\n",
    "df = df.drop(index=233)\n",
    "filtered_df = df[columns_to_keep]\n",
    "filtered_df['Away Goals'] = filtered_df['Away Goals'].astype(np.int64)\n",
    "filtered_df.to_csv('bundesliga_2021_cleaned.csv')\n"
   ]
  },
  {
   "cell_type": "code",
   "execution_count": 6,
   "metadata": {},
   "outputs": [
    {
     "data": {
      "text/plain": [
       "numpy.int64"
      ]
     },
     "execution_count": 6,
     "metadata": {},
     "output_type": "execute_result"
    }
   ],
   "source": [
    "df = pd.read_csv('data/original_data/bundesliga_2022.csv')\n",
    "filtered_df = df[columns_to_keep]\n",
    "filtered_df.to_csv('data/cleaned_data/bundesliga_2022_cleaned.csv')\n",
    "filtered_df.head()"
   ]
  },
  {
   "cell_type": "code",
   "execution_count": 20,
   "metadata": {},
   "outputs": [],
   "source": [
    "df = pd.read_csv('data/original_data/bundesliga_2023.csv')\n",
    "columns_to_keep = ['Home Team', 'Away Team', 'Home Goals', 'Away Goals', 'Home Ast', 'Away Ast', 'Home xG', 'Away xG']\n",
    "filtered_df = df[columns_to_keep]\n",
    "filtered_df.to_csv('data/cleaned_data/bundesliga_2022_cleaned.csv')\n",
    "filtered_df.head()"
   ]
  },
  {
   "cell_type": "code",
   "execution_count": 21,
   "metadata": {},
   "outputs": [],
   "source": [
    "bundesliga_2021 = pd.read_csv('/Users/jihangli/ucsc_cse_course/CSE115A/Soccer-Match-Predictor/data/cleaned_data/bundesliga_2021_cleaned.csv')\n",
    "bundesliga_2022 = pd.read_csv('/Users/jihangli/ucsc_cse_course/CSE115A/Soccer-Match-Predictor/data/cleaned_data/bundesliga_2022_cleaned.csv')\n",
    "bundesliga_2023 = pd.read_csv('/Users/jihangli/ucsc_cse_course/CSE115A/Soccer-Match-Predictor/data/cleaned_data/bundesliga_2023_cleaned.csv')\n",
    "\n",
    "combined_bundesliga = pd.concat([bundesliga_2021, bundesliga_2022, bundesliga_2023], ignore_index=True)\n",
    "\n",
    "combined_bundesliga = combined_bundesliga.drop(columns=['Unnamed: 0'])\n",
    "\n",
    "combined_bundesliga.to_csv('bundesliga_2021_to_2023_cleaned.csv')"
   ]
  }
 ],
 "metadata": {
  "kernelspec": {
   "display_name": "base",
   "language": "python",
   "name": "python3"
  },
  "language_info": {
   "codemirror_mode": {
    "name": "ipython",
    "version": 3
   },
   "file_extension": ".py",
   "mimetype": "text/x-python",
   "name": "python",
   "nbconvert_exporter": "python",
   "pygments_lexer": "ipython3",
   "version": "3.11.5"
  }
 },
 "nbformat": 4,
 "nbformat_minor": 2
}
