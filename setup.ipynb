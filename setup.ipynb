{
 "cells": [
  {
   "cell_type": "code",
   "execution_count": 18,
   "metadata": {},
   "outputs": [],
   "source": [
    "import pandas as pd\n",
    "\n",
    "df = pd.read_csv('data/original_data/bundesliga_2021.csv')\n",
    "columns_to_keep = ['Home Team', 'Away Team', 'Home Goals', 'Away Goals', 'Home Ast', 'Away Ast', 'Home xG', 'Away xG']\n",
    "filtered_df = df[columns_to_keep]\n",
    "filtered_df.to_csv('data/cleaned_data/bundesliga_2021_cleaned.csv')\n",
    "filtered_df.head()\n"
   ]
  },
  {
   "cell_type": "code",
   "execution_count": 19,
   "metadata": {},
   "outputs": [],
   "source": [
    "df = pd.read_csv('data/original_data/bundesliga_2022.csv')\n",
    "filtered_df = df[columns_to_keep]\n",
    "filtered_df.to_csv('data/cleaned_data/bundesliga_2022_cleaned.csv')\n",
    "filtered_df.head()"
   ]
  },
  {
   "cell_type": "code",
   "execution_count": 20,
   "metadata": {},
   "outputs": [],
   "source": [
    "df = pd.read_csv('data/original_data/bundesliga_2023.csv')\n",
    "columns_to_keep = ['Home Team', 'Away Team', 'Home Goals', 'Away Goals', 'Home Ast', 'Away Ast', 'Home xG', 'Away xG']\n",
    "filtered_df = df[columns_to_keep]\n",
    "filtered_df.to_csv('data/cleaned_data/bundesliga_2022_cleaned.csv')\n",
    "filtered_df.head()"
   ]
  }
 ],
 "metadata": {
  "kernelspec": {
   "display_name": "base",
   "language": "python",
   "name": "python3"
  },
  "language_info": {
   "codemirror_mode": {
    "name": "ipython",
    "version": 3
   },
   "file_extension": ".py",
   "mimetype": "text/x-python",
   "name": "python",
   "nbconvert_exporter": "python",
   "pygments_lexer": "ipython3",
   "version": "3.11.5"
  }
 },
 "nbformat": 4,
 "nbformat_minor": 2
}
