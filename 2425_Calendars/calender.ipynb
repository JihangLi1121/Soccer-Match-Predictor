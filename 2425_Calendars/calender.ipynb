{
 "cells": [
  {
   "cell_type": "code",
   "execution_count": null,
   "metadata": {},
   "outputs": [],
   "source": [
    "import pdfplumber\n",
    "import re\n",
    "import csv"
   ]
  },
  {
   "cell_type": "code",
   "execution_count": null,
   "metadata": {},
   "outputs": [],
   "source": [
    "# Path to the PDF file\n",
    "pdf_path = '/Users/joathcarrera/Desktop/CSE115A/Personal/Bundesliga_Calendar.pdf'\n",
    "# Path to the output CSV file\n",
    "base_csv_path = '/Users/joathcarrera/Desktop/CSE115A/Personal/bundesliga_2024-2025fixtures.csv'"
   ]
  },
  {
   "cell_type": "code",
   "execution_count": null,
   "metadata": {},
   "outputs": [],
   "source": [
    "def extract_tables_from_pdf(pdf_path):\n",
    "    tables = []\n",
    "    with pdfplumber.open(pdf_path) as pdf:\n",
    "        for page_num, page in enumerate(pdf.pages):\n",
    "            page_tables = page.extract_tables()\n",
    "            for table in page_tables:\n",
    "                tables.append(table)\n",
    "    return tables"
   ]
  },
  {
   "cell_type": "code",
   "execution_count": null,
   "metadata": {},
   "outputs": [],
   "source": [
    "def clean_dates(text):\n",
    "    # Remove the '- Sa' and '- Fr' parts\n",
    "    text = re.sub(r'(\\d{2}\\.\\d{2}\\.\\d{4}) - \\w{2}', r'\\1', text)\n",
    "    # Convert dates to US format and change '.' to '/'\n",
    "    return re.sub(r'(\\d{2})\\.(\\d{2})\\.(\\d{4})', r'\\2/\\1/\\3', text)"
   ]
  },
  {
   "cell_type": "code",
   "execution_count": null,
   "metadata": {},
   "outputs": [],
   "source": [
    "def clean_and_split_tables(tables):\n",
    "    matchday_tables = {}\n",
    "    for table in tables:\n",
    "        for row in table:\n",
    "            if row and len(row) > 1:\n",
    "                # Clean dates in the row\n",
    "                row = [clean_dates(cell) if cell else cell for cell in row]\n",
    "                # Check if the row contains a matchday number\n",
    "                if row[2] and re.match(r\"\\d+\", row[2]):\n",
    "                    current_matchday = row[2]\n",
    "                    if current_matchday not in matchday_tables:\n",
    "                        matchday_tables[current_matchday] = []\n",
    "                    matchday_tables[current_matchday].append(row)\n",
    "    return matchday_tables"
   ]
  },
  {
   "cell_type": "code",
   "execution_count": null,
   "metadata": {},
   "outputs": [],
   "source": [
    "def filter_bundesliga_matches(matchday_tables):\n",
    "    filtered_tables = {}\n",
    "    exclude_keywords = {\"DFB\", \"DFL\", \"UECL\", \"A\", \"UCL\", \"UEL\", \"REL\"}\n",
    "    for matchday, table in matchday_tables.items():\n",
    "        filtered_table = [\n",
    "            row for row in table\n",
    "            if len(row) > 3 and row[4] and not any(keyword in re.sub(r'\\s+', ' ', row[4]).lower() for keyword in exclude_keywords)\n",
    "        ]\n",
    "        if filtered_table:\n",
    "            filtered_tables[matchday] = filtered_table\n",
    "    return filtered_tables"
   ]
  },
  {
   "cell_type": "code",
   "execution_count": null,
   "metadata": {},
   "outputs": [],
   "source": [
    "def save_matchday_tables_to_csv(matchday_tables, base_csv_path):\n",
    "    for matchday, table in matchday_tables.items():\n",
    "        csv_path = f\"{base_csv_path}_matchday_{matchday}.csv\"\n",
    "        with open(csv_path, mode='w', newline='', encoding='utf-8') as file:\n",
    "            writer = csv.writer(file)\n",
    "            writer.writerow([\"Date\", \"Matchday\", \"Home Team\", \"Away Team\"])  # Set headers\n",
    "            for row in table:\n",
    "                if len(row) >= 5:  # Ensure there are enough columns\n",
    "                    # Create a new row including Home Team and Away Team\n",
    "                    new_row = [row[0], row[2], row[4], row[5]]\n",
    "                    # Skip rows that match the unwanted header\n",
    "                    if new_row != [\"Datum\", \"Spieltag\", \"Heim\", \"Gast\"]:\n",
    "                        writer.writerow(new_row)"
   ]
  },
  {
   "cell_type": "code",
   "execution_count": null,
   "metadata": {},
   "outputs": [],
   "source": [
    "# Extract tables from PDF\n",
    "tables = extract_tables_from_pdf(pdf_path)"
   ]
  },
  {
   "cell_type": "code",
   "execution_count": null,
   "metadata": {},
   "outputs": [],
   "source": [
    "# Clean and split tables into individual matchdays\n",
    "matchday_tables = clean_and_split_tables(tables)"
   ]
  },
  {
   "cell_type": "code",
   "execution_count": null,
   "metadata": {},
   "outputs": [],
   "source": [
    "# Filter out non-Bundesliga matches\n",
    "filtered_matchday_tables = filter_bundesliga_matches(matchday_tables)"
   ]
  },
  {
   "cell_type": "code",
   "execution_count": null,
   "metadata": {},
   "outputs": [],
   "source": [
    " # Save matchday tables to CSV\n",
    "save_matchday_tables_to_csv(filtered_matchday_tables, base_csv_path)"
   ]
  },
  {
   "cell_type": "code",
   "execution_count": null,
   "metadata": {},
   "outputs": [],
   "source": [
    "print(\"Filtered Bundesliga matchday tables have been saved to CSV files.\")"
   ]
  }
 ],
 "metadata": {
  "kernelspec": {
   "display_name": "Python 3",
   "language": "python",
   "name": "python3"
  },
  "language_info": {
   "codemirror_mode": {
    "name": "ipython",
    "version": 3
   },
   "file_extension": ".py",
   "mimetype": "text/x-python",
   "name": "python",
   "nbconvert_exporter": "python",
   "pygments_lexer": "ipython3",
   "version": "3.12.4"
  }
 },
 "nbformat": 4,
 "nbformat_minor": 2
}
