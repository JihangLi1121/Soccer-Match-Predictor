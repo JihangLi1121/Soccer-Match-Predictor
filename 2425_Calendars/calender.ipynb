{
 "cells": [
  {
   "cell_type": "code",
   "execution_count": 1,
   "metadata": {},
   "outputs": [],
   "source": [
    "import pdfplumber\n",
    "import re\n",
    "import csv"
   ]
  },
  {
   "cell_type": "code",
   "execution_count": 2,
   "metadata": {},
   "outputs": [],
   "source": [
    "# Path to the PDF file\n",
    "pdf_path = '/Users/joathcarrera/Desktop/CSE115A/Soccer-Match-Predictor/2425_Calendars/Bundesliga_Calendar.pdf'\n",
    "# Path to the output CSV file\n",
    "base_csv_path = '/Users/joathcarrera/Desktop/CSE115A/Soccer-Match-Predictor/2425_Calendars/Matchday_Calendars/bundesliga_2024-2025fixtures.csv'"
   ]
  },
  {
   "cell_type": "code",
   "execution_count": 3,
   "metadata": {},
   "outputs": [],
   "source": [
    "# Extracting tables from PDF\n",
    "def extract_tables_from_pdf(pdf_path):\n",
    "    tables = []\n",
    "    with pdfplumber.open(pdf_path) as pdf:\n",
    "        for page_num, page in enumerate(pdf.pages):\n",
    "            page_tables = page.extract_tables()\n",
    "            for table in page_tables:\n",
    "                tables.append(table)\n",
    "    return tables"
   ]
  },
  {
   "cell_type": "code",
   "execution_count": 4,
   "metadata": {},
   "outputs": [],
   "source": [
    "# Attempts to organize dates (NEEDS FIXING)\n",
    "def clean_dates(text):\n",
    "    # Remove the '- Sa' and '- Fr' parts\n",
    "    text = re.sub(r'(\\d{2}\\.\\d{2}\\.\\d{4}) - \\w{2}', r'\\1', text)\n",
    "    # Convert dates to US format and change '.' to '/'\n",
    "    return re.sub(r'(\\d{2})\\.(\\d{2})\\.(\\d{4})', r'\\2/\\1/\\3', text)"
   ]
  },
  {
   "cell_type": "code",
   "execution_count": 5,
   "metadata": {},
   "outputs": [],
   "source": [
    "# One table for each matchday\n",
    "def clean_and_split_tables(tables):\n",
    "    matchday_tables = {}\n",
    "    for table in tables:\n",
    "        for row in table:\n",
    "            if row and len(row) > 1:\n",
    "                # Clean dates in the row\n",
    "                row = [clean_dates(cell) if cell else cell for cell in row]\n",
    "                # Check if the row contains a matchday number\n",
    "                if row[2] and re.match(r\"\\d+\", row[2]):\n",
    "                    current_matchday = row[2].zfill(2) \n",
    "                    if current_matchday not in matchday_tables:\n",
    "                        matchday_tables[current_matchday] = []\n",
    "                    matchday_tables[current_matchday].append(row)\n",
    "    return matchday_tables"
   ]
  },
  {
   "cell_type": "code",
   "execution_count": 6,
   "metadata": {},
   "outputs": [],
   "source": [
    "# Remove any matches that are not Bundesliga matches\n",
    "def filter_bundesliga_matches(matchday_tables):\n",
    "    filtered_tables = {}\n",
    "    exclude_keywords = {\"DFB\", \"DFL\", \"UECL\", \"A\", \"UCL\", \"UEL\", \"REL\"}\n",
    "    for matchday, table in matchday_tables.items():\n",
    "        filtered_table = [\n",
    "            row for row in table\n",
    "            if len(row) > 3 and row[4] and not any(keyword in re.sub(r'\\s+', ' ', row[4]).lower() for keyword in exclude_keywords)\n",
    "        ]\n",
    "        if filtered_table:\n",
    "            filtered_tables[matchday] = filtered_table\n",
    "    return filtered_tables"
   ]
  },
  {
   "cell_type": "code",
   "execution_count": 7,
   "metadata": {},
   "outputs": [],
   "source": [
    "# Each Table is saved to its own CSV file\n",
    "def save_matchday_tables_to_csv(matchday_tables, base_csv_path):\n",
    "    # Sort matchdays lexicographically\n",
    "    sorted_matchdays = sorted(matchday_tables.keys())\n",
    "    for matchday in sorted_matchdays:\n",
    "        table = matchday_tables[matchday]\n",
    "        csv_path = f\"{base_csv_path}_matchday_{matchday}.csv\"\n",
    "        with open(csv_path, mode='w', newline='', encoding='utf-8') as file:\n",
    "            writer = csv.writer(file)\n",
    "            writer.writerow([\"Date\", \"Matchday\", \"Home Team\", \"Away Team\"])  # Set headers\n",
    "            for row in table:\n",
    "                if len(row) >= 5:  # Ensure there are enough columns\n",
    "                    # Create a new row including Home Team and Away Team\n",
    "                    new_row = [row[0], row[2], row[4], row[5]]\n",
    "                    # Skip rows that match the unwanted header\n",
    "                    if new_row != [\"Datum\", \"Spieltag\", \"Heim\", \"Gast\"]:\n",
    "                        writer.writerow(new_row)\n"
   ]
  },
  {
   "cell_type": "code",
   "execution_count": 8,
   "metadata": {},
   "outputs": [
    {
     "ename": "FileNotFoundError",
     "evalue": "[Errno 2] No such file or directory: '/Users/joathcarrera/Desktop/CSE115A/Soccer-Match-Predictor/2425_Calendars/Matchday_Calendars/Bundesliga_Calendar.pdf'",
     "output_type": "error",
     "traceback": [
      "\u001b[0;31m---------------------------------------------------------------------------\u001b[0m",
      "\u001b[0;31mFileNotFoundError\u001b[0m                         Traceback (most recent call last)",
      "Cell \u001b[0;32mIn[8], line 2\u001b[0m\n\u001b[1;32m      1\u001b[0m \u001b[38;5;66;03m# Extract tables from PDF\u001b[39;00m\n\u001b[0;32m----> 2\u001b[0m tables \u001b[38;5;241m=\u001b[39m \u001b[43mextract_tables_from_pdf\u001b[49m\u001b[43m(\u001b[49m\u001b[43mpdf_path\u001b[49m\u001b[43m)\u001b[49m\n",
      "Cell \u001b[0;32mIn[3], line 4\u001b[0m, in \u001b[0;36mextract_tables_from_pdf\u001b[0;34m(pdf_path)\u001b[0m\n\u001b[1;32m      2\u001b[0m \u001b[38;5;28;01mdef\u001b[39;00m \u001b[38;5;21mextract_tables_from_pdf\u001b[39m(pdf_path):\n\u001b[1;32m      3\u001b[0m     tables \u001b[38;5;241m=\u001b[39m []\n\u001b[0;32m----> 4\u001b[0m     \u001b[38;5;28;01mwith\u001b[39;00m \u001b[43mpdfplumber\u001b[49m\u001b[38;5;241;43m.\u001b[39;49m\u001b[43mopen\u001b[49m\u001b[43m(\u001b[49m\u001b[43mpdf_path\u001b[49m\u001b[43m)\u001b[49m \u001b[38;5;28;01mas\u001b[39;00m pdf:\n\u001b[1;32m      5\u001b[0m         \u001b[38;5;28;01mfor\u001b[39;00m page_num, page \u001b[38;5;129;01min\u001b[39;00m \u001b[38;5;28menumerate\u001b[39m(pdf\u001b[38;5;241m.\u001b[39mpages):\n\u001b[1;32m      6\u001b[0m             page_tables \u001b[38;5;241m=\u001b[39m page\u001b[38;5;241m.\u001b[39mextract_tables()\n",
      "File \u001b[0;32m/Library/Frameworks/Python.framework/Versions/3.12/lib/python3.12/site-packages/pdfplumber/pdf.py:86\u001b[0m, in \u001b[0;36mPDF.open\u001b[0;34m(cls, path_or_fp, pages, laparams, password, strict_metadata, repair, gs_path)\u001b[0m\n\u001b[1;32m     84\u001b[0m     path \u001b[38;5;241m=\u001b[39m \u001b[38;5;28;01mNone\u001b[39;00m\n\u001b[1;32m     85\u001b[0m \u001b[38;5;28;01melif\u001b[39;00m \u001b[38;5;28misinstance\u001b[39m(path_or_fp, (\u001b[38;5;28mstr\u001b[39m, pathlib\u001b[38;5;241m.\u001b[39mPath)):\n\u001b[0;32m---> 86\u001b[0m     stream \u001b[38;5;241m=\u001b[39m \u001b[38;5;28;43mopen\u001b[39;49m\u001b[43m(\u001b[49m\u001b[43mpath_or_fp\u001b[49m\u001b[43m,\u001b[49m\u001b[43m \u001b[49m\u001b[38;5;124;43m\"\u001b[39;49m\u001b[38;5;124;43mrb\u001b[39;49m\u001b[38;5;124;43m\"\u001b[39;49m\u001b[43m)\u001b[49m\n\u001b[1;32m     87\u001b[0m     stream_is_external \u001b[38;5;241m=\u001b[39m \u001b[38;5;28;01mFalse\u001b[39;00m\n\u001b[1;32m     88\u001b[0m     path \u001b[38;5;241m=\u001b[39m pathlib\u001b[38;5;241m.\u001b[39mPath(path_or_fp)\n",
      "\u001b[0;31mFileNotFoundError\u001b[0m: [Errno 2] No such file or directory: '/Users/joathcarrera/Desktop/CSE115A/Soccer-Match-Predictor/2425_Calendars/Matchday_Calendars/Bundesliga_Calendar.pdf'"
     ]
    }
   ],
   "source": [
    "# Extract tables from PDF\n",
    "tables = extract_tables_from_pdf(pdf_path)"
   ]
  },
  {
   "cell_type": "code",
   "execution_count": null,
   "metadata": {},
   "outputs": [],
   "source": [
    "# Clean and split tables into individual matchdays\n",
    "matchday_tables = clean_and_split_tables(tables)"
   ]
  },
  {
   "cell_type": "code",
   "execution_count": null,
   "metadata": {},
   "outputs": [],
   "source": [
    "# Filter out non-Bundesliga matches\n",
    "filtered_matchday_tables = filter_bundesliga_matches(matchday_tables)"
   ]
  },
  {
   "cell_type": "code",
   "execution_count": null,
   "metadata": {},
   "outputs": [],
   "source": [
    "# Save matchday tables to CSV\n",
    "save_matchday_tables_to_csv(filtered_matchday_tables, base_csv_path)"
   ]
  },
  {
   "cell_type": "code",
   "execution_count": null,
   "metadata": {},
   "outputs": [
    {
     "name": "stdout",
     "output_type": "stream",
     "text": [
      "Filtered Bundesliga matchday tables have been saved to CSV files.\n"
     ]
    }
   ],
   "source": [
    "print(\"Filtered Bundesliga matchday tables have been saved to CSV files.\")"
   ]
  }
 ],
 "metadata": {
  "kernelspec": {
   "display_name": "Python 3",
   "language": "python",
   "name": "python3"
  },
  "language_info": {
   "codemirror_mode": {
    "name": "ipython",
    "version": 3
   },
   "file_extension": ".py",
   "mimetype": "text/x-python",
   "name": "python",
   "nbconvert_exporter": "python",
   "pygments_lexer": "ipython3",
   "version": "3.12.4"
  }
 },
 "nbformat": 4,
 "nbformat_minor": 2
}
