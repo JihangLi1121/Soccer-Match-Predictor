{
 "cells": [
  {
   "cell_type": "code",
   "execution_count": 1,
   "metadata": {},
   "outputs": [],
   "source": [
    "import os\n",
    "import pandas as pd"
   ]
  },
  {
   "cell_type": "code",
   "execution_count": 2,
   "metadata": {},
   "outputs": [],
   "source": [
    "# Define the path where the matchday CSV files are stored\n",
    "matchday_path = '/Users/joathcarrera/Desktop/CSE115A/Soccer-Match-Predictor/2425_Calendars/Matchday_Calendars'\n",
    "output_path = '/Users/joathcarrera/Desktop/CSE115A/Soccer-Match-Predictor/2425_Calendars/Team_Calendars'"
   ]
  },
  {
   "cell_type": "code",
   "execution_count": 3,
   "metadata": {},
   "outputs": [],
   "source": [
    "# Create a list to hold the dataframes for each matchday\n",
    "matchday_files = [f for f in os.listdir(matchday_path) if f.endswith('.csv')]\n",
    "matchday_files.sort()  # Ensure files are sorted by matchday"
   ]
  },
  {
   "cell_type": "code",
   "execution_count": 4,
   "metadata": {},
   "outputs": [],
   "source": [
    "# Read each matchday file and append it to the list\n",
    "matchdays = [pd.read_csv(os.path.join(matchday_path, file)) for file in matchday_files]"
   ]
  },
  {
   "cell_type": "code",
   "execution_count": 5,
   "metadata": {},
   "outputs": [],
   "source": [
    "# Get a list of all teams\n",
    "teams = set()\n",
    "for df in matchdays:\n",
    "    teams.update(df['Home Team'].unique())\n",
    "    teams.update(df['Away Team'].unique())"
   ]
  },
  {
   "cell_type": "code",
   "execution_count": 6,
   "metadata": {},
   "outputs": [],
   "source": [
    "# Create a dictionary to hold all matches for each team\n",
    "team_matches = {team: [] for team in teams}"
   ]
  },
  {
   "cell_type": "code",
   "execution_count": 7,
   "metadata": {},
   "outputs": [],
   "source": [
    "# Iterate over each matchday and append matches to the corresponding team's list\n",
    "for df in matchdays:\n",
    "    for index, row in df.iterrows():\n",
    "        home_team = row['Home Team']\n",
    "        away_team = row['Away Team']\n",
    "        team_matches[home_team].append(row)\n",
    "        team_matches[away_team].append(row)\n"
   ]
  },
  {
   "cell_type": "code",
   "execution_count": 8,
   "metadata": {},
   "outputs": [],
   "source": [
    "# Create a CSV file for each team\n",
    "for team, matches in team_matches.items():\n",
    "    team_df = pd.DataFrame(matches)\n",
    "    team_df.to_csv(os.path.join(output_path, f'{team}.csv'), index=False)\n"
   ]
  },
  {
   "cell_type": "code",
   "execution_count": 9,
   "metadata": {},
   "outputs": [
    {
     "name": "stdout",
     "output_type": "stream",
     "text": [
      "CSV files for each team have been created successfully.\n"
     ]
    }
   ],
   "source": [
    "print(\"CSV files for each team have been created successfully.\")"
   ]
  }
 ],
 "metadata": {
  "kernelspec": {
   "display_name": "Python 3",
   "language": "python",
   "name": "python3"
  },
  "language_info": {
   "codemirror_mode": {
    "name": "ipython",
    "version": 3
   },
   "file_extension": ".py",
   "mimetype": "text/x-python",
   "name": "python",
   "nbconvert_exporter": "python",
   "pygments_lexer": "ipython3",
   "version": "3.12.4"
  }
 },
 "nbformat": 4,
 "nbformat_minor": 2
}
