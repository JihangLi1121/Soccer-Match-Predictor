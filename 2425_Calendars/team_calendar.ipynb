{
 "cells": [
  {
   "cell_type": "code",
   "execution_count": 1,
   "metadata": {},
   "outputs": [],
   "source": [
    "import os  # Importing the os module for file operations\n",
    "\n",
    "import pandas as pd  # Importing the pandas module for data manipulation"
   ]
  },
  {
   "cell_type": "code",
   "execution_count": 2,
   "metadata": {},
   "outputs": [],
   "source": [
    "# Define the path where the matchday CSV files are stored\n",
    "matchday_path = '/Users/joathcarrera/Desktop/CSE115A/Soccer-Match-Predictor/2425_Calendars/Matchday_Calendars'\n",
    "\n",
    "# Define the path where the team-specific CSV files will be saved\n",
    "output_path = '/Users/joathcarrera/Desktop/CSE115A/Soccer-Match-Predictor/2425_Calendars/Team_Calendars'"
   ]
  },
  {
   "cell_type": "code",
   "execution_count": 3,
   "metadata": {},
   "outputs": [],
   "source": [
    "# Listing all the CSV files in the matchday directory\n",
    "matchday_files = [f for f in os.listdir(matchday_path) if f.endswith('.csv')]\n",
    "\n",
    "# Sorting the list of CSV files in alphabetical order\n",
    "matchday_files.sort()"
   ]
  },
  {
   "cell_type": "code",
   "execution_count": 4,
   "metadata": {},
   "outputs": [],
   "source": [
    "# Reading each CSV file into a DataFrame\n",
    "matchdays = [pd.read_csv(os.path.join(matchday_path, file)) for file in matchday_files]"
   ]
  },
  {
   "cell_type": "code",
   "execution_count": 5,
   "metadata": {},
   "outputs": [],
   "source": [
    "# Creating a set of unique teams from the matchday DataFrames\n",
    "teams = set()\n",
    "for df in matchdays:\n",
    "    teams.update(df['Home Team'].unique())\n",
    "    teams.update(df['Away Team'].unique())"
   ]
  },
  {
   "cell_type": "code",
   "execution_count": 6,
   "metadata": {},
   "outputs": [],
   "source": [
    "# Creating a dictionary to store matches for each team\n",
    "team_matches = {team: [] for team in teams}"
   ]
  },
  {
   "cell_type": "code",
   "execution_count": 7,
   "metadata": {},
   "outputs": [],
   "source": [
    "# Loop through matchday DataFrames and add each row to the corresponding team's list.\n",
    "# Matches are added to both home and away team's lists for complete match history.\n",
    "\n",
    "for df in matchdays:\n",
    "\n",
    "    # Loop over each row in the current matchday DataFrame\n",
    "    for index, row in df.iterrows():\n",
    "\n",
    "        # Get the names of the teams from the current row\n",
    "        home_team = row['Home Team']\n",
    "        away_team = row['Away Team']\n",
    "        \n",
    "        # Add the current row to the list for the home team and the away team\n",
    "        team_matches[home_team].append(row)\n",
    "        team_matches[away_team].append(row)\n"
   ]
  },
  {
   "cell_type": "code",
   "execution_count": 8,
   "metadata": {},
   "outputs": [],
   "source": [
    "# Create a DataFrame for each team and save it to a separate CSV file\n",
    "for team, matches in team_matches.items():\n",
    "    \n",
    "    team_df = pd.DataFrame(matches)\n",
    "    \n",
    "    # Save the DataFrame to a CSV file without an index column\n",
    "    team_df.to_csv(os.path.join(output_path, f'{team}.csv'), index=False)\n"
   ]
  },
  {
   "cell_type": "code",
   "execution_count": 9,
   "metadata": {},
   "outputs": [
    {
     "name": "stdout",
     "output_type": "stream",
     "text": [
      "CSV files for each team have been created successfully.\n"
     ]
    }
   ],
   "source": [
    "# Print a success message to indicate that the CSV files for each team have been created successfully\n",
    "print(\"CSV files for each team have been created successfully.\")"
   ]
  }
 ],
 "metadata": {
  "kernelspec": {
   "display_name": "Python 3",
   "language": "python",
   "name": "python3"
  },
  "language_info": {
   "codemirror_mode": {
    "name": "ipython",
    "version": 3
   },
   "file_extension": ".py",
   "mimetype": "text/x-python",
   "name": "python",
   "nbconvert_exporter": "python",
   "pygments_lexer": "ipython3",
   "version": "3.12.4"
  }
 },
 "nbformat": 4,
 "nbformat_minor": 2
}
